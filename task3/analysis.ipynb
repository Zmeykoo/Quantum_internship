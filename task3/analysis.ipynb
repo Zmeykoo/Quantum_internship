{
 "cells": [
  {
   "cell_type": "code",
   "execution_count": 10,
   "id": "1eaeb649",
   "metadata": {},
   "outputs": [],
   "source": [
    "import pandas as pd\n",
    "import numpy as np"
   ]
  },
  {
   "cell_type": "code",
   "execution_count": 11,
   "id": "2e176b4b",
   "metadata": {},
   "outputs": [],
   "source": [
    "# import dataset\n",
    "path = \"internship_train.csv\"\n",
    "dataset = pd.read_csv(path)\n",
    "\n",
    "X = dataset.iloc[:, :53].values\n",
    "y = dataset.target.values"
   ]
  },
  {
   "cell_type": "code",
   "execution_count": 12,
   "id": "04de7ceb",
   "metadata": {},
   "outputs": [],
   "source": [
    "# Data splitting\n",
    "from sklearn.model_selection import train_test_split\n",
    "X_train, X_test, y_train, y_test = train_test_split(X, y, test_size = 0.2, random_state = 0)"
   ]
  },
  {
   "cell_type": "code",
   "execution_count": 13,
   "id": "71482dac",
   "metadata": {},
   "outputs": [],
   "source": [
    "# Feature Scaling\n",
    "from sklearn.preprocessing import StandardScaler\n",
    "sc = StandardScaler()\n",
    "X_train = sc.fit_transform(X_train)\n",
    "X_test = sc.transform(X_test)"
   ]
  },
  {
   "cell_type": "code",
   "execution_count": 14,
   "id": "6d27903c",
   "metadata": {},
   "outputs": [
    {
     "name": "stdout",
     "output_type": "stream",
     "text": [
      "Model: \"sequential\"\n",
      "_________________________________________________________________\n",
      " Layer (type)                Output Shape              Param #   \n",
      "=================================================================\n",
      " dense (Dense)               (None, 128)               6912      \n",
      "                                                                 \n",
      " dense_1 (Dense)             (None, 64)                8256      \n",
      "                                                                 \n",
      " dense_2 (Dense)             (None, 16)                1040      \n",
      "                                                                 \n",
      " dense_3 (Dense)             (None, 1)                 17        \n",
      "                                                                 \n",
      "=================================================================\n",
      "Total params: 16,225\n",
      "Trainable params: 16,225\n",
      "Non-trainable params: 0\n",
      "_________________________________________________________________\n"
     ]
    }
   ],
   "source": [
    "# Load model\n",
    "from tensorflow.keras.models import load_model\n",
    "regression = load_model('regression_v3.h5')\n",
    "regression.summary()"
   ]
  },
  {
   "cell_type": "code",
   "execution_count": 15,
   "id": "0b42e27a",
   "metadata": {},
   "outputs": [
    {
     "name": "stdout",
     "output_type": "stream",
     "text": [
      "563/563 [==============================] - 1s 1ms/step\n",
      "Root Mean Squared Error: 0.17681995882985638\n"
     ]
    }
   ],
   "source": [
    "# Calculate the RMSE\n",
    "from sklearn.metrics import mean_squared_error\n",
    "\n",
    "y_pred = regression.predict(X_test)\n",
    "rmse = mean_squared_error(y_test, y_pred, squared=False)\n",
    "\n",
    "print('Root Mean Squared Error:', rmse)"
   ]
  },
  {
   "cell_type": "code",
   "execution_count": 16,
   "id": "ec6f30ad",
   "metadata": {},
   "outputs": [
    {
     "name": "stdout",
     "output_type": "stream",
     "text": [
      "2813/2813 [==============================] - 3s 1ms/step\n"
     ]
    }
   ],
   "source": [
    "# Calculate difference between real target and predicted\n",
    "sc.fit(X)\n",
    "new_pred = regression.predict(sc.transform(X)).transpose()"
   ]
  },
  {
   "cell_type": "code",
   "execution_count": 17,
   "id": "e0d611df",
   "metadata": {},
   "outputs": [
    {
     "name": "stdout",
     "output_type": "stream",
     "text": [
      "[[0.01 0.31 0.61 ... 0.07 0.11 0.35]]\n",
      "max = 1.02\n",
      "min = 0.0\n",
      "avg = 0.15043055555555557\n"
     ]
    }
   ],
   "source": [
    "diff = np.around(np.absolute(new_pred - y), decimals=2)\n",
    "print(diff)\n",
    "print(f\"max = {diff.max()}\\nmin = {diff.min()}\\navg = {diff.mean()}\")"
   ]
  },
  {
   "cell_type": "code",
   "execution_count": null,
   "id": "5054f53c",
   "metadata": {},
   "outputs": [],
   "source": []
  },
  {
   "cell_type": "code",
   "execution_count": null,
   "id": "9a4abcd0",
   "metadata": {},
   "outputs": [],
   "source": []
  },
  {
   "cell_type": "code",
   "execution_count": null,
   "id": "93d5212e",
   "metadata": {},
   "outputs": [],
   "source": []
  }
 ],
 "metadata": {
  "kernelspec": {
   "display_name": "Python 3 (ipykernel)",
   "language": "python",
   "name": "python3"
  },
  "language_info": {
   "codemirror_mode": {
    "name": "ipython",
    "version": 3
   },
   "file_extension": ".py",
   "mimetype": "text/x-python",
   "name": "python",
   "nbconvert_exporter": "python",
   "pygments_lexer": "ipython3",
   "version": "3.10.9"
  }
 },
 "nbformat": 4,
 "nbformat_minor": 5
}
