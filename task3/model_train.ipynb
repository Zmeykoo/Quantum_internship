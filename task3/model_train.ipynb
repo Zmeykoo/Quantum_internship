{
 "cells": [
  {
   "cell_type": "code",
   "execution_count": 1,
   "id": "7f703202",
   "metadata": {},
   "outputs": [],
   "source": [
    "import pandas as pd\n",
    "import numpy as np"
   ]
  },
  {
   "cell_type": "code",
   "execution_count": 2,
   "id": "3a02cc96",
   "metadata": {},
   "outputs": [],
   "source": [
    "# import dataset\n",
    "path = \"internship_train.csv\"\n",
    "dataset = pd.read_csv(path)\n",
    "\n",
    "X = dataset.iloc[:, :53].values\n",
    "y = dataset.target.values"
   ]
  },
  {
   "cell_type": "code",
   "execution_count": 3,
   "id": "394448ee",
   "metadata": {},
   "outputs": [],
   "source": [
    "# Data splitting\n",
    "from sklearn.model_selection import train_test_split\n",
    "X_train, X_test, y_train, y_test = train_test_split(X, y, test_size = 0.2, random_state = 0)"
   ]
  },
  {
   "cell_type": "code",
   "execution_count": 4,
   "id": "9b0964fa",
   "metadata": {},
   "outputs": [],
   "source": [
    "# Feature Scaling\n",
    "from sklearn.preprocessing import StandardScaler\n",
    "sc = StandardScaler()\n",
    "X_train = sc.fit_transform(X_train)\n",
    "X_test = sc.transform(X_test)"
   ]
  },
  {
   "cell_type": "code",
   "execution_count": 9,
   "id": "52f31adb",
   "metadata": {},
   "outputs": [],
   "source": [
    "# Build regression model\n",
    "import tensorflow as tf\n",
    "from keras.models import Sequential\n",
    "from keras.layers import Dense\n",
    "\n",
    "regression = Sequential()\n",
    "regression.add(Dense(128, activation='relu', input_dim=53))\n",
    "regression.add(Dense(64, activation='relu'))\n",
    "regression.add(Dense(16, activation='relu'))\n",
    "regression.add(Dense(1))\n",
    "\n",
    "regression.compile(loss='mse', optimizer='adam', metrics=['mae'])\n",
    "\n",
    "#regression.summary()"
   ]
  },
  {
   "cell_type": "code",
   "execution_count": 6,
   "id": "62d047b5",
   "metadata": {},
   "outputs": [],
   "source": [
    "#regression.fit(X_train, y_train, batch_size=64, epochs=100, workers=-1, use_multiprocessing=True)"
   ]
  },
  {
   "cell_type": "code",
   "execution_count": 7,
   "id": "d4a3b6bf",
   "metadata": {},
   "outputs": [],
   "source": [
    "#regression.safe_model('regression_v3.h5')"
   ]
  }
 ],
 "metadata": {
  "kernelspec": {
   "display_name": "Python 3 (ipykernel)",
   "language": "python",
   "name": "python3"
  },
  "language_info": {
   "codemirror_mode": {
    "name": "ipython",
    "version": 3
   },
   "file_extension": ".py",
   "mimetype": "text/x-python",
   "name": "python",
   "nbconvert_exporter": "python",
   "pygments_lexer": "ipython3",
   "version": "3.10.9"
  }
 },
 "nbformat": 4,
 "nbformat_minor": 5
}
