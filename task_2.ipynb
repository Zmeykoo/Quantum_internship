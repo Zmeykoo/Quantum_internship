{
 "cells": [
  {
   "cell_type": "code",
   "execution_count": 1,
   "id": "f2cb1bdf",
   "metadata": {},
   "outputs": [],
   "source": [
    "# You have a matrix MxN that represents a map. There are 2 possible states on the map: 1 -\n",
    "# islands, 0 - ocean. Your task is to calculate the number of islands in the most effective way.\n",
    "# Please write code in Python 3.\n",
    "# Inputs:\n",
    "# M N\n",
    "# Matrix\n",
    "# Examples:\n",
    "# Input:\n",
    "# 3 3\n",
    "# 0 1 0\n",
    "# 0 0 0\n",
    "# 0 1 1\n",
    "# Output: 2\n",
    "# Input:\n",
    "# 3 4\n",
    "# 0 0 0 1\n",
    "# 0 0 1 0\n",
    "# 0 1 0 0\n",
    "# Output: 3\n",
    "# Input:\n",
    "# 3 4\n",
    "# 0 0 0 1\n",
    "# 0 0 1 1\n",
    "# 0 1 0 1\n",
    "# Output: 2"
   ]
  },
  {
   "cell_type": "code",
   "execution_count": 2,
   "id": "9c189654",
   "metadata": {},
   "outputs": [],
   "source": [
    "#According to outputs, if island has another island in the neighborhood(right, left, bottom, top, BUT NOT DIAGONAL) \n",
    "#we recognize them as one 1 island"
   ]
  },
  {
   "cell_type": "code",
   "execution_count": 12,
   "id": "c9d953c2",
   "metadata": {},
   "outputs": [
    {
     "name": "stdout",
     "output_type": "stream",
     "text": [
      "5 5\n"
     ]
    }
   ],
   "source": [
    "#create matrix with random values\n",
    "import numpy as np\n",
    "\n",
    "m, n = [int(x) for x in input().split()] #np.random.randint(1, 10), np.random.randint(1, 10)\n",
    "island_map = np.zeros(shape=(m, n), dtype=int)\n",
    "\n",
    "for row in range(m):\n",
    "    for column in range(n):\n",
    "        island_map[row, column] = np.random.randint(0, 2)"
   ]
  },
  {
   "cell_type": "code",
   "execution_count": 13,
   "id": "ccaabf75",
   "metadata": {},
   "outputs": [
    {
     "name": "stdout",
     "output_type": "stream",
     "text": [
      "size = (5, 5)\n",
      " matrix:\n",
      "[[1 0 1 0 1]\n",
      " [0 1 0 0 0]\n",
      " [0 0 1 1 1]\n",
      " [1 0 0 1 0]\n",
      " [0 0 1 0 0]]\n",
      "number of islands: 7\n"
     ]
    }
   ],
   "source": [
    "#islands detection\n",
    "visited = []\n",
    "count = 0\n",
    "\n",
    "def dfs(i, j):\n",
    "    if i < 0 or i >= m or j < 0 or j >= n or island_map[i][j] == 0 or (i, j) in visited:\n",
    "        return None\n",
    "    visited.append((i, j))\n",
    "    #print(visited)\n",
    "    \n",
    "    dfs(i, j-1)\n",
    "    dfs(i, j+1)\n",
    "    dfs(i-1, j)\n",
    "    dfs(i+1, j)\n",
    "    \n",
    "for i in range(m):\n",
    "    for j in range(n):\n",
    "        if island_map[i][j] == 1 and (i, j) not in visited:\n",
    "            count += 1\n",
    "            dfs(i, j)\n",
    "\n",
    "print(f'size = {m, n}\\n',\n",
    "      f'matrix:\\n{island_map}\\n'\n",
    "      f'number of islands: {count}')"
   ]
  },
  {
   "cell_type": "code",
   "execution_count": null,
   "id": "17a848bc",
   "metadata": {},
   "outputs": [],
   "source": []
  }
 ],
 "metadata": {
  "kernelspec": {
   "display_name": "Python 3 (ipykernel)",
   "language": "python",
   "name": "python3"
  },
  "language_info": {
   "codemirror_mode": {
    "name": "ipython",
    "version": 3
   },
   "file_extension": ".py",
   "mimetype": "text/x-python",
   "name": "python",
   "nbconvert_exporter": "python",
   "pygments_lexer": "ipython3",
   "version": "3.10.9"
  }
 },
 "nbformat": 4,
 "nbformat_minor": 5
}
