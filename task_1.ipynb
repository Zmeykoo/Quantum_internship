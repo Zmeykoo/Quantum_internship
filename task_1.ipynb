{
 "cells": [
  {
   "cell_type": "code",
   "execution_count": 1,
   "id": "5b7951c0",
   "metadata": {},
   "outputs": [],
   "source": [
    "# You have a positive integer number N as an input. Please write a program in Python 3 that\n",
    "# calculates the sum in range 1 and N.\n",
    "# Limitations:\n",
    "# N <= 10^25;\n",
    "# Execution time: 0.1 seconds.\n",
    "# Examples:\n",
    "# Input: 1\n",
    "# Output: 1\n",
    "# Input: 3\n",
    "# Output: 6\n",
    "# Input 10:\n",
    "# Output: 55"
   ]
  },
  {
   "cell_type": "code",
   "execution_count": 6,
   "id": "e33c827a",
   "metadata": {},
   "outputs": [
    {
     "name": "stdout",
     "output_type": "stream",
     "text": [
      "Input: 10\n",
      "sum = 55\n",
      "Execution_time: 0.0 seconds\n"
     ]
    }
   ],
   "source": [
    "import time\n",
    "\n",
    "N = int(input('Input: '))\n",
    "start = time.time()\n",
    "result = N * (N + 1) // 2\n",
    "\n",
    "print(f'sum = {result}\\n'\n",
    "      f'Execution_time: {round(time.time() - start, 2)} seconds')\n"
   ]
  },
  {
   "cell_type": "code",
   "execution_count": null,
   "id": "1147a7c0",
   "metadata": {},
   "outputs": [],
   "source": []
  },
  {
   "cell_type": "code",
   "execution_count": null,
   "id": "d397859f",
   "metadata": {},
   "outputs": [],
   "source": []
  }
 ],
 "metadata": {
  "kernelspec": {
   "display_name": "Python 3 (ipykernel)",
   "language": "python",
   "name": "python3"
  },
  "language_info": {
   "codemirror_mode": {
    "name": "ipython",
    "version": 3
   },
   "file_extension": ".py",
   "mimetype": "text/x-python",
   "name": "python",
   "nbconvert_exporter": "python",
   "pygments_lexer": "ipython3",
   "version": "3.10.9"
  }
 },
 "nbformat": 4,
 "nbformat_minor": 5
}
